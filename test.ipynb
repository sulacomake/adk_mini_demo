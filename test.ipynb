{
 "cells": [
  {
   "cell_type": "code",
   "execution_count": 1,
   "id": "46bf77bd",
   "metadata": {},
   "outputs": [
    {
     "data": {
      "text/plain": [
       "True"
      ]
     },
     "execution_count": 1,
     "metadata": {},
     "output_type": "execute_result"
    }
   ],
   "source": [
    "import os\n",
    "import vertexai\n",
    "from vertexai import agent_engines\n",
    "from dotenv import load_dotenv\n",
    "load_dotenv()"
   ]
  },
  {
   "cell_type": "code",
   "execution_count": 3,
   "id": "cb8edeb6",
   "metadata": {},
   "outputs": [],
   "source": [
    "def parse_event_content(event: dict) -> list:\n",
    "    \"\"\"\n",
    "    Parses the 'content' section of an event dictionary to extract text,\n",
    "    function calls, or function responses from the 'parts' list.\n",
    "\n",
    "    Args:\n",
    "        event: The event dictionary to parse.\n",
    "\n",
    "    Returns:\n",
    "        A list of tuples. Each tuple contains (events type, content)\n",
    "        Returns an empty list if the structure is invalid or no \n",
    "        relevant parts are found.\n",
    "    \"\"\"\n",
    "    results = []\n",
    "    \n",
    "    # Use .get() for safer access in case keys are missing\n",
    "    content = event.get('content')\n",
    "    if not isinstance(content, dict):\n",
    "        # print(\"Warning: 'content' key missing or not a dictionary in event.\")\n",
    "        return results # Return empty list if content is missing/wrong type\n",
    "\n",
    "    parts = content.get('parts')\n",
    "    if not isinstance(parts, list):\n",
    "        # print(\"Warning: 'parts' key missing or not a list in event['content'].\")\n",
    "        return results # Return empty list if parts is missing/wrong type\n",
    "\n",
    "    # Iterate through each dictionary in the 'parts' list\n",
    "    for part in parts:\n",
    "        if not isinstance(part, dict):\n",
    "            # print(f\"Warning: Item in 'parts' is not a dictionary: {part}\")\n",
    "            results.append(('unknown', part)) # Handle non-dict items if necessary\n",
    "            continue # Skip to the next item\n",
    "\n",
    "        if 'text' in part:\n",
    "            print(\"-----------------------------\")\n",
    "            print('>>> Inside final response <<<')\n",
    "            print(\"-----------------------------\")\n",
    "            print(part['text'])\n",
    "            results.append(('text', part['text']))\n",
    "        elif 'function_call' in part:\n",
    "            print(\"-----------------------------\")\n",
    "            print('+++ Inside function call +++')\n",
    "            print(\"-----------------------------\")\n",
    "            print(f\"Call Function: {part['function_call']['name']}\")\n",
    "            print(f\"Argument: {part['function_call']['args']}\")\n",
    "            # Found a function call part\n",
    "            results.append(('function_call', part['function_call']))\n",
    "        elif 'function_response' in part:\n",
    "            print(\"------------------------------\")\n",
    "            print('-- Inside function response --')\n",
    "            print(\"------------------------------\")\n",
    "            print(f\"Function Response: {part['function_response']['name']}\")\n",
    "            print(f\"Response: {part['function_response']['response']}\")\n",
    "            results.append(('function_response', part['function_response']))\n",
    "        else:\n",
    "            # The part dictionary doesn't contain any of the expected keys\n",
    "            # print(f\"Warning: Unknown structure in part: {part}\")\n",
    "            print(f'Unknown part: {part}')\n",
    "            results.append(('unknown', part))\n",
    "\n",
    "    return results"
   ]
  },
  {
   "cell_type": "code",
   "execution_count": 4,
   "id": "ae9a9e0c",
   "metadata": {},
   "outputs": [],
   "source": [
    "# Choose Model Backend: 0 -> ML Dev, 1 -> Vertex AI\n",
    "GOOGLE_GENAI_USE_VERTEXAI=1\n",
    "\n",
    "# Vertex AI backend config, uncomment and use with GOOGLE_GENAI_USE_VERTEXAI=1\n",
    "GOOGLE_CLOUD_PROJECT=\"genai-demos-avr-2024\"\n",
    "GOOGLE_CLOUD_LOCATION=\"us-central1\"\n",
    "\n",
    "# ML Dev backend config, uncomment and use with GOOGLE_GENAI_USE_VERTEXAI=0\n",
    "#GOOGLE_API_KEY=YOUR_AISTUDIO_API_KEY\n",
    "\n",
    "MODEL=\"gemini-2.5-flash\"\n",
    "AGENT_ENGINE_ID=\"4854449389747306496\""
   ]
  },
  {
   "cell_type": "code",
   "execution_count": 5,
   "id": "03fa4053",
   "metadata": {},
   "outputs": [
    {
     "name": "stdout",
     "output_type": "stream",
     "text": [
      "--------------------------\n",
      "---- Get Agent Engine ----\n",
      "--------------------------\n",
      "Agent Retrieved: agent_corp_brand\n",
      "\n",
      "-------------------------\n",
      "---- Send User Query ----\n",
      "-------------------------\n",
      "User query: Buscame noticias sobre la empresa Alicorp en Peru?\n",
      "-----------------------------\n",
      ">>> Inside final response <<<\n",
      "-----------------------------\n",
      "Alicorp, una de las empresas de consumo masivo más grandes de Perú, ha sido noticia recientemente por diversos motivos.\n",
      "\n",
      "**Resultados Financieros y Estrategia:**\n",
      "*   Alicorp cerró el primer trimestre del año con ventas consolidadas de S/2,910 millones, mostrando un sólido crecimiento impulsado por su negocio de acuicultura.\n",
      "*   La empresa tiene como objetivo crecer en 2025, enfocándose en su estrategia de marcas y categorías tanto en el mercado local como en países vecinos como Bolivia y Ecuador.\n",
      "\n",
      "**Cambios Operacionales y de Producción:**\n",
      "*   Intradevco, vinculada a Alicorp, planea cerrar su planta en Chorrillos y trasladar sus operaciones a Lurín como parte de una estrategia de centralización.\n",
      "*   Alicorp está modificando su fórmula de producción de detergentes, con nuevos cambios en la materia prima utilizada en su planta del Callao.\n",
      "\n",
      "**Movimientos en el Mercado y Competencia:**\n",
      "*   Arcor concretó la compra de Sayón a Alicorp por más de US$5.5 millones, buscando reforzar su presencia en el mercado peruano.\n",
      "*   Un gigante del aceite de México, Ragasa, estaría evaluando ingresar al mercado peruano, lo que podría impactar el dominio de Alicorp en este sector.\n",
      "*   Alicorp busca duplicar su negocio de cereales Ángel en cinco años, identificando una oportunidad de crecimiento dado el bajo consumo per cápita en comparación con otros mercados de la región.\n",
      "\n",
      "**Reconocimientos y Compromiso Social:**\n",
      "*   Alicorp, BCP, Interbank y Google lideran el ranking de empresas preferidas para trabajar en Perú.\n",
      "*   La empresa ha sido reconocida por su compromiso con la ética, obteniendo la certificación anticorrupción de Empresarios por la Integridad.\n",
      "*   Alicorp ha lanzado campañas como \"Aliados de tu desarrollo\" para impulsar el crecimiento de emprendedores gastronómicos en Perú.\n",
      "\n",
      "**Otros temas relevantes:**\n",
      "*   Se ha reportado que Fideos Don Vittorio, producto de Alicorp, ha reducido su contenido sin una disminución proporcional en el precio en supermercados.\n",
      "*   Alicorp ha publicado su Reporte Integrado 2024, destacándolo como un año clave de crecimiento y compromiso.\n",
      "*   La empresa ha recertificado su compromiso con la ética y ha obtenido la certificación anticorrupción de Empresarios por la Integridad.\n"
     ]
    }
   ],
   "source": [
    "GOOGLE_CLOUD_PROJECT = os.getenv(\"GOOGLE_CLOUD_PROJECT\")\n",
    "GOOGLE_CLOUD_LOCATION = os.getenv(\"GOOGLE_CLOUD_LOCATION\")\n",
    "\n",
    "vertexai.init(\n",
    "    project=GOOGLE_CLOUD_PROJECT,\n",
    "    location=GOOGLE_CLOUD_LOCATION,\n",
    ")\n",
    "\n",
    "\n",
    "print(\"--------------------------\")\n",
    "print(\"---- Get Agent Engine ----\")\n",
    "print(\"--------------------------\")\n",
    "agent = agent_engines.get(f\"projects/{GOOGLE_CLOUD_PROJECT}/locations/{GOOGLE_CLOUD_LOCATION}/reasoningEngines/{AGENT_ENGINE_ID}\")\n",
    "print(f\"Agent Retrieved: {agent.display_name}\")\n",
    "\n",
    "print(\"\\n-------------------------\")\n",
    "print(\"---- Send User Query ----\")\n",
    "print(\"-------------------------\")\n",
    "user_query = \"Buscame noticias sobre la empresa Alicorp en Peru?\"\n",
    "\n",
    "print(f\"User query: {user_query}\")\n",
    "\n",
    "for event in agent.stream_query(user_id=\"user\", message=user_query):\n",
    "    parse_event_content(event)"
   ]
  }
 ],
 "metadata": {
  "kernelspec": {
   "display_name": ".adk_venv (3.12.8)",
   "language": "python",
   "name": "python3"
  },
  "language_info": {
   "codemirror_mode": {
    "name": "ipython",
    "version": 3
   },
   "file_extension": ".py",
   "mimetype": "text/x-python",
   "name": "python",
   "nbconvert_exporter": "python",
   "pygments_lexer": "ipython3",
   "version": "3.12.8"
  }
 },
 "nbformat": 4,
 "nbformat_minor": 5
}
